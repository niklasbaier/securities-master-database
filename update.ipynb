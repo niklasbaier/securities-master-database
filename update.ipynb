{
 "cells": [
  {
   "cell_type": "markdown",
   "metadata": {},
   "source": [
    "# Updating the SMD"
   ]
  },
  {
   "cell_type": "code",
   "execution_count": null,
   "metadata": {},
   "outputs": [],
   "source": [
    "# Imports\n",
    "import config as cf\n",
    "import utils as ut\n",
    "\n",
    "import numpy as np\n",
    "import pandas as pd\n",
    "pd.options.mode.chained_assignment = None  # default = 'warn'"
   ]
  },
  {
   "cell_type": "markdown",
   "metadata": {},
   "source": [
    "## Connections"
   ]
  },
  {
   "cell_type": "code",
   "execution_count": null,
   "metadata": {},
   "outputs": [],
   "source": [
    "# Connect to DB\n",
    "conn = ut.connect_db()\n",
    "cursor = conn.cursor()\n",
    "\n",
    "# Connect to Alpaca API\n",
    "api = ut.connect_api()"
   ]
  },
  {
   "cell_type": "code",
   "execution_count": null,
   "metadata": {},
   "outputs": [],
   "source": [
    "# Get currently listed assets from Alpaca\n",
    "assets = api.list_assets()\n",
    "\n",
    "# Get all assets from SMD\n",
    "tickers = ut.get_all_tickers(conn)"
   ]
  },
  {
   "cell_type": "code",
   "execution_count": null,
   "metadata": {},
   "outputs": [],
   "source": [
    "yesterday = str(ut.get_yesterday())\n",
    "yesterday"
   ]
  },
  {
   "cell_type": "code",
   "execution_count": null,
   "metadata": {},
   "outputs": [],
   "source": [
    "new_tickers_alpaca = ut.get_new_tickers(assets, tickers, conn)\n",
    "\n",
    "if new_tickers_alpaca.empty:\n",
    "  print('No new tickers have been identified. Instruments are up to date.')\n",
    "  new_tickers = []"
   ]
  },
  {
   "cell_type": "markdown",
   "metadata": {},
   "source": [
    "## New instruments"
   ]
  },
  {
   "cell_type": "markdown",
   "metadata": {},
   "source": [
    "### Adding new instruments"
   ]
  },
  {
   "cell_type": "code",
   "execution_count": null,
   "metadata": {},
   "outputs": [],
   "source": [
    "new_tickers_alpaca"
   ]
  },
  {
   "cell_type": "code",
   "execution_count": null,
   "metadata": {},
   "outputs": [],
   "source": [
    "exchanges = new_tickers_alpaca['exchange_id'].to_list()\n",
    "\n",
    "tmp = []\n",
    "for exchange in exchanges:\n",
    "  tmp.append(ut.get_exchange_id(exchange, conn))"
   ]
  },
  {
   "cell_type": "code",
   "execution_count": null,
   "metadata": {},
   "outputs": [],
   "source": [
    "new_tickers_alpaca.drop('exchange_id', axis = 1, inplace = True)\n",
    "new_tickers_alpaca.insert(0, 'exchange_id', tmp)\n",
    "new_tickers_alpaca"
   ]
  },
  {
   "cell_type": "code",
   "execution_count": null,
   "metadata": {},
   "outputs": [],
   "source": [
    "new_tickers = sorted(ut.cast_to_yf(new_tickers_alpaca['ticker'].to_list()))"
   ]
  },
  {
   "cell_type": "code",
   "execution_count": null,
   "metadata": {},
   "outputs": [],
   "source": [
    "splits = ut.determine_splits(new_tickers, cf.BATCH_SIZE)\n",
    "split_arr = np.array_split(new_tickers, splits)\n",
    "new_tickers_info = pd.DataFrame()\n",
    "\n",
    "count = 1\n",
    "for array in split_arr:\n",
    "  print(\"|---------------| Split {} of {} |---------------|\".format(count, splits))\n",
    "  tmp = ut.get_corporate_info(array, 25, cf.KOI)\n",
    "  new_tickers_info = new_tickers_info.append(tmp)\n",
    "  count += 1"
   ]
  },
  {
   "cell_type": "code",
   "execution_count": null,
   "metadata": {},
   "outputs": [],
   "source": [
    "new_tickers_info"
   ]
  },
  {
   "cell_type": "code",
   "execution_count": null,
   "metadata": {},
   "outputs": [],
   "source": [
    "info_count = len(new_tickers_info[new_tickers_info['sector'] != 'NaN'])\n",
    "print('Could retrieve additional information on {} out of {} tickers ({:.2f}%)'.format(info_count, len(new_tickers), info_count / len(new_tickers) * 100))"
   ]
  },
  {
   "cell_type": "code",
   "execution_count": null,
   "metadata": {},
   "outputs": [],
   "source": [
    "new_tickers = ut.cast_to_alpaca(new_tickers)\n",
    "tmp = ut.cast_to_alpaca(new_tickers_info['symbol'].tolist()) # cast tickers back to Alpaca format\n",
    "new_tickers_info.drop('symbol', axis = 1, inplace = True)\n",
    "new_tickers_info.insert(0, 'ticker', tmp)"
   ]
  },
  {
   "cell_type": "code",
   "execution_count": null,
   "metadata": {},
   "outputs": [],
   "source": [
    "new_tickers_df = pd.merge(new_tickers_alpaca, new_tickers_info, on = 'ticker', how = 'outer')\n",
    "new_tickers_df = new_tickers_df.sort_values(by = ['ticker'])"
   ]
  },
  {
   "cell_type": "code",
   "execution_count": null,
   "metadata": {},
   "outputs": [],
   "source": [
    "new_tickers_df = new_tickers_df.replace({np.nan: None})\n",
    "new_tickers_df"
   ]
  },
  {
   "cell_type": "code",
   "execution_count": null,
   "metadata": {},
   "outputs": [],
   "source": [
    "for row in new_tickers_df.itertuples(index = False):\n",
    "  cursor.execute(\"INSERT INTO instrument (exchange_id, ticker, name, sector, industry, country, website) VALUES (%s, %s, %s, %s, %s, %s, %s)\", row)\n",
    "conn.commit()\n",
    "print(\"|---------------| Data successfully written to database. |---------------|\")"
   ]
  },
  {
   "cell_type": "markdown",
   "metadata": {},
   "source": [
    "### Downloading price histories"
   ]
  },
  {
   "cell_type": "code",
   "execution_count": null,
   "metadata": {},
   "outputs": [],
   "source": [
    "new_tickers_df = ut.get_tickers_from_list(new_tickers, conn)\n",
    "new_tickers_df "
   ]
  },
  {
   "cell_type": "code",
   "execution_count": null,
   "metadata": {},
   "outputs": [],
   "source": [
    "splits = ut.determine_splits(new_tickers, cf.BATCH_SIZE)\n",
    "new_tickers_list = [new_tickers_df.loc[i : i + cf.BATCH_SIZE - 1, : ] for i in range(0, len(new_tickers_df), cf.BATCH_SIZE)]\n",
    "new_excepts = []\n",
    "\n",
    "count = 1\n",
    "for batch in new_tickers_list:\n",
    "  print(\"|---------------| Split {} of {} |---------------|\".format(count, splits))\n",
    "  tmp = ut.write_historical_prices_yf(batch, conn, cursor, None, yesterday)\n",
    "  new_excepts.append(tmp)\n",
    "  count += 1"
   ]
  },
  {
   "cell_type": "code",
   "execution_count": null,
   "metadata": {},
   "outputs": [],
   "source": [
    "new_excepts = ut.flatten_exceptions(new_excepts)\n",
    "new_excepts"
   ]
  },
  {
   "cell_type": "code",
   "execution_count": null,
   "metadata": {},
   "outputs": [],
   "source": [
    "new_alpaca = pd.DataFrame()\n",
    "for ticker in new_excepts:\n",
    "  new_alpaca = new_alpaca.append(new_tickers_df[new_tickers_df['ticker'] == ticker])\n",
    "ut.write_historical_prices_alpaca(new_alpaca, api, conn, cursor, None, yesterday)"
   ]
  },
  {
   "cell_type": "markdown",
   "metadata": {},
   "source": [
    "## Existing instruments"
   ]
  },
  {
   "cell_type": "code",
   "execution_count": null,
   "metadata": {},
   "outputs": [],
   "source": [
    "yesterday_dt = ut.get_yesterday()\n",
    "yesterday_dt"
   ]
  },
  {
   "cell_type": "code",
   "execution_count": null,
   "metadata": {},
   "outputs": [],
   "source": [
    "tickers_df = ut.get_update_info_from_list(conn, cursor)\n",
    "tickers_df"
   ]
  },
  {
   "cell_type": "code",
   "execution_count": null,
   "metadata": {},
   "outputs": [],
   "source": [
    "tickers_df = tickers_df[~tickers_df['ticker'].isin(new_tickers)] # filter out newly added tickers that are already up to date\n",
    "tickers_df = tickers_df[tickers_df['last_date'] != yesterday_dt] # filter out those tickers whose last_price date is equal to yesterday's date\n",
    "tickers_df"
   ]
  },
  {
   "cell_type": "code",
   "execution_count": null,
   "metadata": {},
   "outputs": [],
   "source": [
    "if tickers_df.empty:\n",
    "  print('Prices for existing tickers are already up to date.')"
   ]
  },
  {
   "cell_type": "code",
   "execution_count": null,
   "metadata": {},
   "outputs": [],
   "source": [
    "yahoo_tickers_df = tickers_df[tickers_df['vendor_id'] == ut.get_vendor_id('Yahoo Finance', conn)]\n",
    "yahoo_tickers_df.drop('vendor_id', axis = 1, inplace = True)\n",
    "\n",
    "# yahoo-ify the tickers\n",
    "tmp = ut.cast_to_yf(yahoo_tickers_df['ticker'].tolist())\n",
    "yahoo_tickers_df.drop('ticker', axis = 1, inplace = True)\n",
    "yahoo_tickers_df.insert(0, 'ticker', tmp)\n",
    "\n",
    "alpaca_tickers_df = tickers_df[tickers_df['vendor_id'] == ut.get_vendor_id('Alpaca', conn)]\n",
    "alpaca_tickers_df.drop('vendor_id', axis = 1, inplace = True)"
   ]
  },
  {
   "cell_type": "code",
   "execution_count": null,
   "metadata": {},
   "outputs": [],
   "source": [
    "yahoo_tickers_df"
   ]
  },
  {
   "cell_type": "code",
   "execution_count": null,
   "metadata": {},
   "outputs": [],
   "source": [
    "alpaca_tickers_df"
   ]
  },
  {
   "cell_type": "code",
   "execution_count": null,
   "metadata": {},
   "outputs": [],
   "source": [
    "yf = ut.get_vendor_id('Yahoo Finance', conn)\n",
    "alp = ut.get_vendor_id('Alpaca', conn)"
   ]
  },
  {
   "cell_type": "code",
   "execution_count": null,
   "metadata": {},
   "outputs": [],
   "source": [
    "# Download Yahoo Data\n",
    "splits = ut.determine_splits(yahoo_tickers_df['ticker'].to_list(), cf.BATCH_SIZE)\n",
    "yahoo_tickers_list = [yahoo_tickers_df.loc[i : i + cf.BATCH_SIZE - 1, : ] for i in range(0, len(yahoo_tickers_df), cf.BATCH_SIZE)]\n",
    "\n",
    "count = 1\n",
    "for batch in yahoo_tickers_list:\n",
    "  print(\"|---------------| Split {} of {} |---------------|\".format(count, splits))\n",
    "  ut.update_historical_prices_yf(batch, yf, conn, cursor, yesterday)\n",
    "  count += 1"
   ]
  },
  {
   "cell_type": "code",
   "execution_count": null,
   "metadata": {},
   "outputs": [],
   "source": [
    "# Download Alpaca Data\n",
    "ut.update_historical_prices_alpaca(alpaca_tickers_df, alp, api, conn, cursor, yesterday)"
   ]
  }
 ],
 "metadata": {
  "interpreter": {
   "hash": "9df93e7c5b32aa01e4b0cb4b10cdde717c610396fc96290c488abb3ee4ca8915"
  },
  "kernelspec": {
   "display_name": "Python 3.9.6 64-bit ('alpha-intelligence': conda)",
   "language": "python",
   "name": "python3"
  },
  "language_info": {
   "codemirror_mode": {
    "name": "ipython",
    "version": 3
   },
   "file_extension": ".py",
   "mimetype": "text/x-python",
   "name": "python",
   "nbconvert_exporter": "python",
   "pygments_lexer": "ipython3",
   "version": "3.9.6"
  },
  "orig_nbformat": 4
 },
 "nbformat": 4,
 "nbformat_minor": 2
}
